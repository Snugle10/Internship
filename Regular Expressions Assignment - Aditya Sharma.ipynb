{
 "cells": [
  {
   "cell_type": "code",
   "execution_count": 15,
   "id": "f7888666",
   "metadata": {},
   "outputs": [],
   "source": [
    "import regex as re"
   ]
  },
  {
   "cell_type": "code",
   "execution_count": 16,
   "id": "a7f2eba5",
   "metadata": {},
   "outputs": [],
   "source": [
    "import pandas as pd"
   ]
  },
  {
   "cell_type": "markdown",
   "id": "1c0f7114",
   "metadata": {},
   "source": [
    "#### 1 - Write a Python program to replace all occurrences of a space, comma, or dot with a colon.\n",
    "Sample Text- 'Python Exercises, PHP exercises.\n",
    "Expected Output: Python:Exercises::PHP:exercises:"
   ]
  },
  {
   "cell_type": "code",
   "execution_count": 16,
   "id": "755598b0",
   "metadata": {},
   "outputs": [
    {
     "name": "stdout",
     "output_type": "stream",
     "text": [
      "Python:Exercises::PHP:exercises:\n"
     ]
    }
   ],
   "source": [
    "sample_text = 'Python Exercises, PHP exercises.'\n",
    "pattern= r'[\"\\s+\" ,.]'\n",
    "replace=':'\n",
    "text=re.sub(pattern,replace,sample_text)\n",
    "print(text)"
   ]
  },
  {
   "cell_type": "markdown",
   "id": "a28bf4a1",
   "metadata": {},
   "source": [
    "#### 2 - Write a Python program to find all words starting with 'a' or 'e' in a given string."
   ]
  },
  {
   "cell_type": "code",
   "execution_count": 17,
   "id": "057ac9b7",
   "metadata": {},
   "outputs": [
    {
     "name": "stdout",
     "output_type": "stream",
     "text": [
      "['exercises']\n"
     ]
    }
   ],
   "source": [
    "target_string=\"Python Exercises, PHP exercises\"\n",
    "result=re.findall(r'\\b[ae]\\w+\\b', target_string)\n",
    "\n",
    "print(result)"
   ]
  },
  {
   "cell_type": "markdown",
   "id": "6605a067",
   "metadata": {},
   "source": [
    "##### 3- Create a function in python to find all words that are at least 4 characters long in a string. The use of the re.compile() method is mandatory."
   ]
  },
  {
   "cell_type": "code",
   "execution_count": 98,
   "id": "2fa723df",
   "metadata": {},
   "outputs": [
    {
     "name": "stdout",
     "output_type": "stream",
     "text": [
      "['Python', 'Exercises', 'exercises']\n"
     ]
    }
   ],
   "source": [
    "target_string = \"Python Exercises, PHP exercises\"\n",
    "\n",
    "pattern = re.compile(r'\\w{4,}')\n",
    "result = pattern.findall(target_string)\n",
    "\n",
    "print(result)"
   ]
  },
  {
   "cell_type": "markdown",
   "id": "6a45c479",
   "metadata": {},
   "source": [
    "#### 4- Create a function in python to find all three, four, and five character words in a string. The use of the re.compile() method is mandatory.\n"
   ]
  },
  {
   "cell_type": "code",
   "execution_count": 99,
   "id": "8499c16c",
   "metadata": {},
   "outputs": [
    {
     "name": "stdout",
     "output_type": "stream",
     "text": [
      "['PHP']\n"
     ]
    }
   ],
   "source": [
    "target_string = \"Python Exercises, PHP exercises\"\n",
    "pattern = re.compile(r'\\b\\w{3,5}\\b')\n",
    "\n",
    "result = pattern.findall(target_string)\n",
    "print(result)"
   ]
  },
  {
   "cell_type": "markdown",
   "id": "84ffb18c",
   "metadata": {},
   "source": [
    "##### 5- Create a function in Python to remove the parenthesis in a list of strings. The use of the re.compile() method is mandatory.\n",
    "Sample Text: [\"example (.com)\", \"hr@fliprobo (.com)\", \"github (.com)\", \"Hello (Data Science World)\", \"Data (Scientist)\"]\n",
    "Expected Output:\n",
    "example.com\n",
    "hr@fliprobo.com\n",
    "github.com\n",
    "Hello Data Science World\n",
    "Data Scientist"
   ]
  },
  {
   "cell_type": "code",
   "execution_count": 27,
   "id": "7a8acf41",
   "metadata": {},
   "outputs": [],
   "source": [
    "#NA"
   ]
  },
  {
   "cell_type": "markdown",
   "id": "968775cb",
   "metadata": {},
   "source": [
    "#### 6- Write a python program to remove the parenthesis area from the text stored in the text file using Regular Expression.\n",
    "Sample Text: [\"example (.com)\", \"hr@fliprobo (.com)\", \"github (.com)\", \"Hello (Data Science World)\", \"Data (Scientist)\"]\n",
    "Expected Output: [\"example\", \"hr@fliprobo\", \"github\", \"Hello\", \"Data\"]"
   ]
  },
  {
   "cell_type": "code",
   "execution_count": null,
   "id": "8992a633",
   "metadata": {},
   "outputs": [],
   "source": []
  },
  {
   "cell_type": "markdown",
   "id": "0278db18",
   "metadata": {},
   "source": [
    "#### 7- Write a regular expression in Python to split a string into uppercase letters.\n",
    "Sample text: “ImportanceOfRegularExpressionsInPython”\n",
    "Expected Output: [‘Importance’, ‘Of’, ‘Regular’, ‘Expression’, ‘In’, ‘Python’]"
   ]
  },
  {
   "cell_type": "code",
   "execution_count": 101,
   "id": "6f6cfa27",
   "metadata": {},
   "outputs": [
    {
     "name": "stdout",
     "output_type": "stream",
     "text": [
      "['Importance', 'Of', 'Regular', 'Expressions', 'In', 'Python']\n"
     ]
    }
   ],
   "source": [
    "sample_text = \"ImportanceOfRegularExpressionsInPython\"\n",
    "result = re.('[A-Z][^A-Z]*', sample_text)\n",
    "\n",
    "print(result)"
   ]
  },
  {
   "cell_type": "markdown",
   "id": "0e691bec",
   "metadata": {},
   "source": [
    "#### 8- Create a function in python to insert spaces between words starting with numbers.\n",
    "Sample Text: “RegularExpression1IsAn2ImportantTopic3InPython\"\n",
    "Expected Output: RegularExpression 1IsAn 2ImportantTopic 3InPython"
   ]
  },
  {
   "cell_type": "code",
   "execution_count": 161,
   "id": "67ab1446",
   "metadata": {},
   "outputs": [
    {
     "name": "stdout",
     "output_type": "stream",
     "text": [
      "RegularExpression1 IsAn2 ImportantTopic3 InPython\n"
     ]
    }
   ],
   "source": [
    "sample_text = \"RegularExpression1IsAn2ImportantTopic3InPython\"\n",
    "output = re.sub(r'(\\d)([A-Za-z])', r'\\1 \\2', sample_text)\n",
    "\n",
    "print(output)"
   ]
  },
  {
   "cell_type": "code",
   "execution_count": 3,
   "id": "edd6b1b0",
   "metadata": {},
   "outputs": [
    {
     "name": "stdout",
     "output_type": "stream",
     "text": [
      "RegularExpression1 IsAn2 ImportantTopic3 InPython\n"
     ]
    }
   ],
   "source": [
    "sample_text = \"RegularExpression1IsAn2ImportantTopic3InPython\"\n",
    "output = re.sub(r'([A-Z,0-9])([A-Z])', r'\\1 \\2', sample_text)\n",
    "\n",
    "print(output)"
   ]
  },
  {
   "cell_type": "markdown",
   "id": "55c8d0d9",
   "metadata": {},
   "source": [
    "#### 9- Create a function in python to insert spaces between words starting with capital letters or with numbers.\n",
    "Sample Text: “RegularExpression1IsAn2ImportantTopic3InPython\"\n",
    "Expected Output:  RegularExpression 1 IsAn 2 ImportantTopic 3 InPython\n"
   ]
  },
  {
   "cell_type": "code",
   "execution_count": 80,
   "id": "9ac826a6",
   "metadata": {},
   "outputs": [
    {
     "name": "stdout",
     "output_type": "stream",
     "text": [
      "RegularExpressio n 1IsA n 2ImportantTopi c 3InPython\n"
     ]
    }
   ],
   "source": [
    "sample_text = \"RegularExpression1IsAn2ImportantTopic3InPython\"\n",
    "output = re.sub(r'([A-Z0-9])([A-Z])|([A-Za-z0-9])([0-9])', r'\\1 \\2\\3 \\4', sample_text)\n",
    "\n",
    "print(output)"
   ]
  },
  {
   "cell_type": "markdown",
   "id": "8b4b261c",
   "metadata": {},
   "source": [
    "#### 10- Write a python program to extract email address from the text stored in the text file using Regular Expression.\n",
    "Sample Text- Hello my name is Data Science and my email address is xyz@domain.com and alternate email address is xyz.abc@sdomain.domain.com. \n",
    "Please contact us at hr@fliprobo.com for further information. \n",
    "Expected Output: \n",
    "['xyz@domain.com', 'xyz.abc@sdomain.domain.com']\n",
    "['hr@fliprobo.com']\n"
   ]
  },
  {
   "cell_type": "code",
   "execution_count": 7,
   "id": "d285543c",
   "metadata": {},
   "outputs": [],
   "source": [
    "#NA"
   ]
  },
  {
   "cell_type": "markdown",
   "id": "30c59ee0",
   "metadata": {},
   "source": [
    "#### 11- Write a Python program to match a string that contains only upper and lowercase letters, numbers, and underscores."
   ]
  },
  {
   "cell_type": "code",
   "execution_count": 9,
   "id": "434b4442",
   "metadata": {},
   "outputs": [
    {
     "name": "stdout",
     "output_type": "stream",
     "text": [
      "Aditya123 matches the pattern.\n",
      "Jupitar_notebook matches the pattern.\n",
      "12345 matches the pattern.\n",
      "flip_robo matches the pattern.\n",
      "abc_def$ does not match the pattern.\n"
     ]
    }
   ],
   "source": [
    "def match_pattern(input_string):\n",
    "    return bool(re.match(r'^[a-zA-Z0-9_]+$', input_string))\n",
    "\n",
    "test_strings = [\"Aditya123\", \"Jupitar_notebook\", \"12345\", \"flip_robo\", \"abc_def$\"]\n",
    "for string in test_strings:\n",
    "    if match_pattern(string):\n",
    "        print(f\"{string} matches the pattern.\")\n",
    "    else:\n",
    "        print(f\"{string} does not match the pattern.\")"
   ]
  },
  {
   "cell_type": "markdown",
   "id": "3a6b87ed",
   "metadata": {},
   "source": [
    "#### 12- Write a Python program where a string will start with a specific number. "
   ]
  },
  {
   "cell_type": "code",
   "execution_count": 8,
   "id": "fd5cb627",
   "metadata": {},
   "outputs": [
    {
     "name": "stdout",
     "output_type": "stream",
     "text": [
      "\"12345_mac\" starts with 123.\n",
      "\"456_book\" does not start with 123.\n",
      "\"789_python\" does not start with 123.\n",
      "\"jupitar123\" does not start with 123.\n",
      "\"42_notebook\" does not start with 123.\n"
     ]
    }
   ],
   "source": [
    "def starts_with_number(input_string, specific_number):\n",
    "    pattern = rf'^{specific_number}'\n",
    "    return bool(re.match(pattern, input_string))\n",
    "\n",
    "test_strings = [\"12345_mac\", \"456_book\", \"789_python\", \"jupitar123\", \"42_notebook\"]\n",
    "specific_number = \"123\"\n",
    "for string in test_strings:\n",
    "    if starts_with_number(string, specific_number):\n",
    "        print(f'\"{string}\" starts with {specific_number}.')\n",
    "    else:\n",
    "        print(f'\"{string}\" does not start with {specific_number}.')"
   ]
  },
  {
   "cell_type": "markdown",
   "id": "a44157a7",
   "metadata": {},
   "source": [
    "#### 13- Write a Python program to remove leading zeros from an IP address"
   ]
  },
  {
   "cell_type": "code",
   "execution_count": 19,
   "id": "ad05e064",
   "metadata": {},
   "outputs": [
    {
     "name": "stdout",
     "output_type": "stream",
     "text": [
      "['192.168.', '1.', '1']\n"
     ]
    }
   ],
   "source": [
    "IP= \"192.168.001.001\"\n",
    "pattern=re.findall('[^0]+',IP)\n",
    "print(pattern)"
   ]
  },
  {
   "cell_type": "markdown",
   "id": "f9e333df",
   "metadata": {},
   "source": [
    "#### 14- Write a regular expression in python to match a date string in the form of Month name followed by day number and year stored in a text file.\n",
    "Sample text :  ' On August 15th 1947 that India was declared independent from British colonialism, and the reins of control were handed over to the leaders of the Country’.\n",
    "Expected Output- August 15th 1947"
   ]
  },
  {
   "cell_type": "code",
   "execution_count": 11,
   "id": "479ec650",
   "metadata": {},
   "outputs": [
    {
     "name": "stdout",
     "output_type": "stream",
     "text": [
      "Expected Output: August 15th 1947\n"
     ]
    }
   ],
   "source": [
    "sample_text = 'On August 15th 1947 that India was declared independent from British colonialism, and the reins of control were handed over to the leaders of the Country.'\n",
    "\n",
    "pattern = r'\\b(?:January|February|March|April|May|June|July|August|September|October|November|December)\\s\\d{1,2}(?:st|nd|rd|th)?\\s\\d{4}\\b'\n",
    "\n",
    "match = re.search(pattern, sample_text)\n",
    "if match:\n",
    "    matched_date = match.group()\n",
    "    print(\"Expected Output:\", matched_date)\n",
    "else:\n",
    "    print(\"Date not found in the text.\")"
   ]
  },
  {
   "cell_type": "markdown",
   "id": "58ce5576",
   "metadata": {},
   "source": [
    "#### 15- Write a Python program to search some literals strings in a string. \n",
    "Sample text : 'The quick brown fox jumps over the lazy dog.'\n",
    "Searched words : 'fox', 'dog', 'horse'"
   ]
  },
  {
   "cell_type": "code",
   "execution_count": 20,
   "id": "71b31774",
   "metadata": {},
   "outputs": [
    {
     "name": "stdout",
     "output_type": "stream",
     "text": [
      "'fox'\n",
      "'dog'\n",
      "'horse'\n"
     ]
    }
   ],
   "source": [
    "sample_text = 'The quick brown fox jumps over the lazy dog.'\n",
    "searched_words = ['fox', 'dog', 'horse']\n",
    "\n",
    "for word in searched_words:\n",
    "    if re.search(rf'\\b{re.escape(word)}\\b', sample_text):\n",
    "        print(f\"'{word}'\")\n",
    "    else:\n",
    "        print(f\"'{word}'\")"
   ]
  },
  {
   "cell_type": "markdown",
   "id": "a5d30ea7",
   "metadata": {},
   "source": [
    "#### 16- Write a Python program to search a literals string in a string and also find the location within the original string where the pattern occurs\n",
    "Sample text : 'The quick brown fox jumps over the lazy dog.'\n",
    "Searched words : 'fox'"
   ]
  },
  {
   "cell_type": "code",
   "execution_count": 21,
   "id": "307725f2",
   "metadata": {},
   "outputs": [
    {
     "name": "stdout",
     "output_type": "stream",
     "text": [
      "'fox' found at position 16-18.\n"
     ]
    }
   ],
   "source": [
    "sample_text = 'The quick brown fox jumps over the lazy dog.'\n",
    "searched_word = 'fox'\n",
    "\n",
    "pattern = re.escape(searched_word)\n",
    "matches = re.finditer(pattern, sample_text)\n",
    "\n",
    "for match in matches:\n",
    "    start = match.start()\n",
    "    end = match.end()\n",
    "    print(f\"'{searched_word}' found at position {start}-{end-1}.\")"
   ]
  },
  {
   "cell_type": "markdown",
   "id": "39559582",
   "metadata": {},
   "source": [
    "#### 17- Write a Python program to find the substrings within a string.\n",
    "Sample text : 'Python exercises, PHP exercises, C# exercises'\n",
    "Pattern : 'exercises'."
   ]
  },
  {
   "cell_type": "code",
   "execution_count": 5,
   "id": "6227961a",
   "metadata": {},
   "outputs": [
    {
     "name": "stdout",
     "output_type": "stream",
     "text": [
      "'exercises' found at position 7-15.\n",
      "'exercises' found at position 22-30.\n",
      "'exercises' found at position 36-44.\n"
     ]
    }
   ],
   "source": [
    "sample_text = 'Python exercises, PHP exercises, C# exercises'\n",
    "pattern = 'exercises'\n",
    "\n",
    "matches = re.finditer(pattern, sample_text)\n",
    "\n",
    "for match in matches:\n",
    "    start = match.start()\n",
    "    end = match.end()\n",
    "    found_substring = match.group()\n",
    "    print(f\"'{found_substring}' found at position {start}-{end-1}.\")"
   ]
  },
  {
   "cell_type": "markdown",
   "id": "0e9d5759",
   "metadata": {},
   "source": [
    "#### 18- Write a Python program to find the occurrence and position of the substrings within a string.\n",
    "sample_text = 'Python exercises, PHP exercises, C# exercises'"
   ]
  },
  {
   "cell_type": "code",
   "execution_count": 7,
   "id": "192cd429",
   "metadata": {},
   "outputs": [
    {
     "name": "stdout",
     "output_type": "stream",
     "text": [
      "'exercises' occurs 3 times in the text.\n",
      "'exercises' found at position 7-15.\n",
      "'exercises' found at position 22-30.\n",
      "'exercises' found at position 36-44.\n"
     ]
    }
   ],
   "source": [
    "sample_text = 'Python exercises, PHP exercises, C# exercises'\n",
    "pattern = 'exercises'\n",
    "\n",
    "matches = list(re.finditer(pattern, sample_text))\n",
    "\n",
    "if matches:\n",
    "    print(f\"'{pattern}' occurs {len(matches)} times in the text.\")\n",
    "    for match in matches:\n",
    "        start = match.start()\n",
    "        end = match.end()\n",
    "        print(f\"'{pattern}' found at position {start}-{end-1}.\")\n",
    "else:\n",
    "    print(f\"'{pattern}' does not occur in the text.\")"
   ]
  },
  {
   "cell_type": "markdown",
   "id": "2b21cf9a",
   "metadata": {},
   "source": [
    "#### 19-  Write a Python program to convert a date of yyyy-mm-dd format to dd-mm-yyyy format."
   ]
  },
  {
   "cell_type": "code",
   "execution_count": 9,
   "id": "2d30ddca",
   "metadata": {},
   "outputs": [
    {
     "name": "stdout",
     "output_type": "stream",
     "text": [
      "Original date: 2001-07-10, Converted date: 10-07-2001\n"
     ]
    }
   ],
   "source": [
    "def convert_date(date):\n",
    "    if re.match(r'\\d{4}-\\d{2}-\\d{2}', date):\n",
    "        year, month, day = date.split('-')\n",
    "        return f'{day}-{month}-{year}'\n",
    "    else:\n",
    "        return \"Invalid date format\"\n",
    "\n",
    "date = [\"2001-07-10\"]\n",
    "for date in date:\n",
    "    converted_date = convert_date(date)\n",
    "    print(f\"Original date: {date}, Converted date: {converted_date}\")"
   ]
  },
  {
   "cell_type": "markdown",
   "id": "5bb0b13b",
   "metadata": {},
   "source": [
    "#### 20- Create a function in python to find all decimal numbers with a precision of 1 or 2 in a string. The use of the re.compile() method is mandatory.\n",
    "Sample Text: \"01.12 0132.123 2.31875 145.8 3.01 27.25 0.25\"\n",
    "Expected Output: ['01.12', '145.8', '3.01', '27.25', '0.25']"
   ]
  },
  {
   "cell_type": "code",
   "execution_count": 14,
   "id": "6b91672d",
   "metadata": {},
   "outputs": [
    {
     "name": "stdout",
     "output_type": "stream",
     "text": [
      "['01.12', '145.8', '3.01', '27.25', '0.25']\n"
     ]
    }
   ],
   "source": [
    "def find_decimal_numbers(text):\n",
    "    pattern = re.compile(r'\\b\\d+\\.\\d{1,2}\\b')\n",
    "    return pattern.findall(text)\n",
    "\n",
    "sample_text = \"01.12 0132.123 2.31875 145.8 3.01 27.25 0.25\"\n",
    "decimal_numbers = find_decimal_numbers(sample_text)\n",
    "print(decimal_numbers)"
   ]
  },
  {
   "cell_type": "markdown",
   "id": "40967fba",
   "metadata": {},
   "source": [
    "#### 21- Write a Python program to separate and print the numbers and their position of a given string."
   ]
  },
  {
   "cell_type": "code",
   "execution_count": 12,
   "id": "bcb725f5",
   "metadata": {},
   "outputs": [
    {
     "name": "stdout",
     "output_type": "stream",
     "text": [
      "Number: 01.12, Position: 0\n",
      "Number: 0132.123, Position: 6\n",
      "Number: 2.31875, Position: 15\n",
      "Number: 145.8, Position: 23\n",
      "Number: 3.01, Position: 29\n",
      "Number: 27.25, Position: 34\n",
      "Number: 0.25, Position: 40\n"
     ]
    }
   ],
   "source": [
    "sample_text = \"01.12 0132.123 2.31875 145.8 3.01 27.25 0.25\"\n",
    "pattern = re.compile(r'\\b\\d+\\.\\d+\\b')\n",
    "\n",
    "matches = pattern.finditer(sample_text)\n",
    "\n",
    "for match in matches:\n",
    "    number = match.group()\n",
    "    position = match.start()\n",
    "    print(f\"Number: {number}, Position: {position}\")"
   ]
  },
  {
   "cell_type": "markdown",
   "id": "2ab24a0c",
   "metadata": {},
   "source": [
    "#### 22- Write a regular expression in python program to extract maximum/largest numeric value from a string.\n",
    "Sample Text:  'My marks in each semester are: 947, 896, 926, 524, 734, 950, 642'\n",
    "Expected Output: 950"
   ]
  },
  {
   "cell_type": "code",
   "execution_count": 20,
   "id": "1de41ae5",
   "metadata": {},
   "outputs": [
    {
     "name": "stdout",
     "output_type": "stream",
     "text": [
      "950\n"
     ]
    }
   ],
   "source": [
    "import re\n",
    "sample_text = 'My marks in each semester are: 947, 896, 926, 524, 734, 950, 642'\n",
    "\n",
    "def extract_max_numeric_value(text):\n",
    "    numbers = re.findall(r'\\b\\d+\\b', text)\n",
    "    if numbers:\n",
    "        max_number = max(map(int, numbers))\n",
    "        return max_number\n",
    "    else:\n",
    "        return None\n",
    "\n",
    "result = extract_max_numeric_value(sample_text)\n",
    "print(result)"
   ]
  },
  {
   "cell_type": "markdown",
   "id": "fda40bc3",
   "metadata": {},
   "source": [
    "#### 23- Create a function in python to insert spaces between words starting with capital letters.\n",
    "Sample Text: “RegularExpressionIsAnImportantTopicInPython\"\n",
    "Expected Output: Regular Expression Is An Important Topic In Python"
   ]
  },
  {
   "cell_type": "code",
   "execution_count": 21,
   "id": "e065fbf3",
   "metadata": {},
   "outputs": [
    {
     "name": "stdout",
     "output_type": "stream",
     "text": [
      "Regular Expression Is An Important Topic In Python\n"
     ]
    }
   ],
   "source": [
    "Sample_Text=\"RegularExpressionIsAnImportantTopicInPython\"\n",
    "def capital_word_spaces(Sample_Text):\n",
    "    return re.sub(r\"(\\w)([A-Z])\", r\"\\1 \\2\",Sample_Text)\n",
    "\n",
    "\n",
    "print(capital_word_spaces(Sample_Text))"
   ]
  },
  {
   "cell_type": "markdown",
   "id": "c4836a84",
   "metadata": {},
   "source": [
    "#### 24- Python regex to find sequences of one upper case letter followed by lower case letters"
   ]
  },
  {
   "cell_type": "code",
   "execution_count": 13,
   "id": "1ecedac1",
   "metadata": {},
   "outputs": [
    {
     "name": "stdout",
     "output_type": "stream",
     "text": [
      "['Regular', 'Expression', 'Is', 'An', 'Important', 'Topic', 'In', 'Python']\n"
     ]
    }
   ],
   "source": [
    "sample_text = \"RegularExpressionIsAnImportantTopicInPython\"\n",
    "pattern = re.compile(r'[A-Z][a-z]+')\n",
    "\n",
    "matches = pattern.findall(sample_text)\n",
    "\n",
    "print(matches)"
   ]
  },
  {
   "cell_type": "markdown",
   "id": "b0a561ff",
   "metadata": {},
   "source": [
    "#### 25- Write a Python program to remove continuous duplicate words from Sentence using Regular Expression.\n",
    "Sample Text: \"Hello hello world world\"\n",
    "Expected Output: Hello hello world"
   ]
  },
  {
   "cell_type": "code",
   "execution_count": 22,
   "id": "241ee685",
   "metadata": {},
   "outputs": [
    {
     "name": "stdout",
     "output_type": "stream",
     "text": [
      "Hello hello world\n"
     ]
    }
   ],
   "source": [
    "sample_Text=\"Hello hello world world\"\n",
    "pattern =r'\\b(\\w+)(?:\\W+\\1\\b)+'\n",
    "\n",
    "result=re.sub(pattern,r'\\1',sample_Text)\n",
    "print(result)"
   ]
  },
  {
   "cell_type": "markdown",
   "id": "5cf9fc33",
   "metadata": {},
   "source": [
    "#### 26-  Write a python program using RegEx to accept string ending with alphanumeric character.\n"
   ]
  },
  {
   "cell_type": "code",
   "execution_count": 15,
   "id": "b64fb274",
   "metadata": {},
   "outputs": [
    {
     "name": "stdout",
     "output_type": "stream",
     "text": [
      "The following strings end with an alphanumeric character: ['d']\n"
     ]
    }
   ],
   "source": [
    "sample_text = \"Hello hello world world\"\n",
    "pattern = re.compile(r'\\w$')\n",
    "\n",
    "matches = pattern.findall(sample_text)\n",
    "\n",
    "if matches:\n",
    "    print(f\"The following strings end with an alphanumeric character: {matches}\")\n",
    "else:\n",
    "    print(\"No strings found ending with an alphanumeric character.\")"
   ]
  },
  {
   "cell_type": "markdown",
   "id": "43977a65",
   "metadata": {},
   "source": [
    "#### 27-Write a python program using RegEx to extract the hashtags.\n",
    "Sample Text:  \"\"\"RT @kapil_kausik: #Doltiwal I mean #xyzabc is \"hurt\" by #Demonetization as the same has rendered USELESS <ed><U+00A0><U+00BD><ed><U+00B1><U+0089> \"acquired funds\" No wo\"\"\"\n",
    "Expected Output: ['#Doltiwal', '#xyzabc', '#Demonetization']"
   ]
  },
  {
   "cell_type": "code",
   "execution_count": 23,
   "id": "2efa78ae",
   "metadata": {},
   "outputs": [
    {
     "name": "stdout",
     "output_type": "stream",
     "text": [
      "['#Doltiwal', '#xyzabc', '#Demonetization']\n"
     ]
    }
   ],
   "source": [
    "Sample_Text=\"\"\"RT @kapil_kausik: #Doltiwal I mean #xyzabc is \"hurt\" by #Demonetization as the same\n",
    "has rendered USELESS <ed><U+00A0><U+00BD><ed><U+00B1><U+0089> \"acquired funds\" No wo\"\"\"\n",
    "\n",
    "match=re.findall(\"#[A-Za-z]+\",Sample_Text)\n",
    "print(match)"
   ]
  },
  {
   "cell_type": "markdown",
   "id": "db0340a5",
   "metadata": {},
   "source": [
    "#### 28- Write a python program using RegEx to remove <U+..> like symbols\n",
    "Check the below sample text, there are strange symbols something of the sort <U+..> all over the place. You need to come up with a general Regex expression that will cover all such symbols.\n",
    "Sample Text: \"@Jags123456 Bharat band on 28??<ed><U+00A0><U+00BD><ed><U+00B8><U+0082>Those who  are protesting #demonetization  are all different party leaders\"\n",
    "Expected Output: @Jags123456 Bharat band on 28??<ed><ed>Those who  are protesting #demonetization  are all different party leaders"
   ]
  },
  {
   "cell_type": "code",
   "execution_count": 24,
   "id": "c31ddac7",
   "metadata": {},
   "outputs": [
    {
     "name": "stdout",
     "output_type": "stream",
     "text": [
      "@Jags123456 Bharat band on 28??<ed><ed>Those who are protesting #demonetization are all different party leaders\n"
     ]
    }
   ],
   "source": [
    "Sample_Text= \"@Jags123456 Bharat band on 28??<ed><U+00A0><U+00BD><ed><U+00B8><U+0082>Those who are protesting #demonetization are all different party leaders\"\n",
    "\n",
    "result=re.sub(r\"<U\\+[0-9A-Za-z]+>\",\"\",Sample_Text)\n",
    "\n",
    "print(result)"
   ]
  },
  {
   "cell_type": "markdown",
   "id": "7cabc687",
   "metadata": {},
   "source": [
    "#### 29- Write a python program to extract dates from the text stored in the text file.\n",
    "Sample Text: Ron was born on 12-09-1992 and he was admitted to school 15-12-1999.\n",
    "Note- Store this sample text in the file and then extract dates."
   ]
  },
  {
   "cell_type": "code",
   "execution_count": null,
   "id": "4fe4af14",
   "metadata": {},
   "outputs": [],
   "source": [
    "import re\n",
    "A = open(\"Question_29.txt\",\"r\")\n",
    "for line in A:\n",
    "    pattern=re.findall(\"(\\d{2})-(\\d{2})-(\\d{4})\",line)\n",
    "    print(pattern)"
   ]
  },
  {
   "cell_type": "markdown",
   "id": "49401622",
   "metadata": {},
   "source": [
    "#### 30- Create a function in python to remove all words from a string of length between 2 and 4.\n",
    "The use of the re.compile() method is mandatory.\n",
    "Sample Text: \"The following example creates an ArrayList with a capacity of 50 elements. 4 elements are then added to the ArrayList and the ArrayList is trimmed accordingly.\"\n",
    "Expected Output:  following example creates ArrayList a capacity elements. 4 elements added ArrayList ArrayList trimmed accordingly."
   ]
  },
  {
   "cell_type": "code",
   "execution_count": 26,
   "id": "a9f2854a",
   "metadata": {},
   "outputs": [
    {
     "name": "stdout",
     "output_type": "stream",
     "text": [
      " following example creates  ArrayList  a capacity   elements. 4 elements   added   ArrayList   ArrayList  trimmed accordingly.\n"
     ]
    }
   ],
   "source": [
    "Text= \"The following example creates an ArrayList with a capacity of 50 elements. 4 elements are then added to the ArrayList and the ArrayList is trimmed accordingly.\"\n",
    "pattern=re.compile(r\"\\b[\\w+]{2,4}\\b\")\n",
    "result=pattern.sub(\"\",Text)\n",
    "print(result)"
   ]
  }
 ],
 "metadata": {
  "kernelspec": {
   "display_name": "Python 3 (ipykernel)",
   "language": "python",
   "name": "python3"
  },
  "language_info": {
   "codemirror_mode": {
    "name": "ipython",
    "version": 3
   },
   "file_extension": ".py",
   "mimetype": "text/x-python",
   "name": "python",
   "nbconvert_exporter": "python",
   "pygments_lexer": "ipython3",
   "version": "3.11.4"
  }
 },
 "nbformat": 4,
 "nbformat_minor": 5
}
